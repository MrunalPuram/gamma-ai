{
 "cells": [
  {
   "cell_type": "code",
   "execution_count": 9,
   "metadata": {},
   "outputs": [],
   "source": [
    "import numpy as np\n",
    "import matplotlib.pyplot as plt"
   ]
  },
  {
   "cell_type": "code",
   "execution_count": 7,
   "metadata": {},
   "outputs": [
    {
     "data": {
      "text/plain": [
       "{'TestingPredictedLayer': array([ 1., 63., 63., ..., 58., 53.,  0.]),\n",
       " 'TestingRealLayer': array([ 1.,  5.,  0., ..., 57., 20., 47.]),\n",
       " 'TrainingPredictedLayer': array([ 0.,  0.,  0., ..., 35., 30., 53.]),\n",
       " 'TrainingRealLayer': array([56., 32., 47., ..., 35., 30., 53.])}"
      ]
     },
     "execution_count": 7,
     "metadata": {},
     "output_type": "execute_result"
    }
   ],
   "source": [
    "array_dict = np.load('realPredictedLayers.npy').item()\n",
    "array_dict"
   ]
  },
  {
   "cell_type": "code",
   "execution_count": 15,
   "metadata": {},
   "outputs": [
    {
     "data": {
      "image/png": "[encoded data removed]",
      "text/plain": [
       "<matplotlib.figure.Figure at 0x7f8e70210748>"
      ]
     },
     "metadata": {},
     "output_type": "display_data"
    }
   ],
   "source": [
    "fig, [ax1, ax2] = plt.subplots(1, 2, figsize = (10, 4))\n",
    "ax1.hist(array_dict['TestingPredictedLayer'], label = 'Testing Predicted')\n",
    "ax2.hist(array_dict['TestingRealLayer'], label = 'Testing Real', color = 'g')\n",
    "ax1.legend()\n",
    "ax2.legend();"
   ]
  },
  {
   "cell_type": "code",
   "execution_count": 19,
   "metadata": {},
   "outputs": [
    {
     "data": {
      "image/png": "[encoded data removed]",
      "text/plain": [
       "<matplotlib.figure.Figure at 0x7f8e6fee3dd8>"
      ]
     },
     "metadata": {},
     "output_type": "display_data"
    }
   ],
   "source": [
    "fig2, [ax3, ax4] = plt.subplots(1, 2, figsize = (10, 4))\n",
    "ax3.hist(array_dict['TrainingPredictedLayer'], label = 'Training Predicted')\n",
    "ax4.hist(array_dict['TrainingRealLayer'], label = 'Training Real', color = 'g')\n",
    "ax3.legend()\n",
    "ax4.legend();"
   ]
  },
  {
   "cell_type": "code",
   "execution_count": 25,
   "metadata": {},
   "outputs": [
    {
     "name": "stdout",
     "output_type": "stream",
     "text": [
      "[[0.00000e+00 1.04136e+05]\n",
      " [1.00000e+00 3.96600e+03]\n",
      " [2.00000e+00 3.10500e+03]\n",
      " [3.00000e+00 2.91700e+03]\n",
      " [4.00000e+00 4.43000e+03]\n",
      " [5.00000e+00 3.46300e+03]\n",
      " [6.00000e+00 3.97800e+03]\n",
      " [7.00000e+00 3.64700e+03]\n",
      " [8.00000e+00 8.52900e+03]\n",
      " [9.00000e+00 2.64100e+03]\n",
      " [1.00000e+01 2.93600e+03]\n",
      " [1.10000e+01 5.19500e+03]\n",
      " [1.20000e+01 3.07300e+03]\n",
      " [1.30000e+01 2.88500e+03]\n",
      " [1.40000e+01 2.72300e+03]\n",
      " [1.50000e+01 2.91300e+03]\n",
      " [1.60000e+01 6.53100e+03]\n",
      " [1.70000e+01 1.60050e+04]\n",
      " [1.80000e+01 3.14700e+03]\n",
      " [1.90000e+01 5.92900e+03]\n",
      " [2.00000e+01 2.05100e+03]\n",
      " [2.10000e+01 3.49400e+03]\n",
      " [2.20000e+01 5.23000e+03]\n",
      " [2.30000e+01 3.74500e+03]\n",
      " [2.40000e+01 3.06500e+03]\n",
      " [2.50000e+01 2.25400e+03]\n",
      " [2.60000e+01 2.76900e+03]\n",
      " [2.70000e+01 1.18940e+04]\n",
      " [2.80000e+01 2.93800e+03]\n",
      " [2.90000e+01 3.41700e+03]\n",
      " [3.00000e+01 6.47300e+03]\n",
      " [3.10000e+01 1.39760e+04]\n",
      " [3.20000e+01 2.90600e+03]\n",
      " [3.30000e+01 1.97900e+03]\n",
      " [3.40000e+01 6.31900e+03]\n",
      " [3.50000e+01 1.00800e+04]\n",
      " [3.60000e+01 8.99000e+03]\n",
      " [3.70000e+01 2.51600e+03]\n",
      " [3.80000e+01 5.42500e+03]\n",
      " [3.90000e+01 4.92200e+03]\n",
      " [4.00000e+01 3.36200e+03]\n",
      " [4.10000e+01 2.65600e+03]\n",
      " [4.20000e+01 3.16400e+03]\n",
      " [4.30000e+01 2.79000e+03]\n",
      " [4.40000e+01 4.47500e+03]\n",
      " [4.50000e+01 2.94300e+03]\n",
      " [4.60000e+01 2.46800e+03]\n",
      " [4.70000e+01 3.45800e+03]\n",
      " [4.80000e+01 1.19150e+04]\n",
      " [4.90000e+01 3.59200e+03]\n",
      " [5.00000e+01 2.12800e+03]\n",
      " [5.10000e+01 3.53900e+03]\n",
      " [5.20000e+01 5.44700e+03]\n",
      " [5.30000e+01 4.47800e+04]\n",
      " [5.40000e+01 7.79000e+03]\n",
      " [5.50000e+01 4.32400e+03]\n",
      " [5.60000e+01 4.07600e+03]\n",
      " [5.70000e+01 1.71500e+03]\n",
      " [5.80000e+01 4.77900e+03]\n",
      " [5.90000e+01 6.33700e+03]\n",
      " [6.00000e+01 3.63500e+03]\n",
      " [6.10000e+01 3.32700e+03]\n",
      " [6.20000e+01 8.56000e+02]\n",
      " [6.30000e+01 5.15160e+04]]\n"
     ]
    }
   ],
   "source": [
    "unique_train, count_train = np.unique(array_dict['TrainingPredictedLayer'], return_counts = True)\n",
    "print(np.array(list(zip(unique_train, count_train))))"
   ]
  },
  {
   "cell_type": "code",
   "execution_count": 26,
   "metadata": {},
   "outputs": [
    {
     "name": "stdout",
     "output_type": "stream",
     "text": [
      "[[0.000e+00 1.005e+04]\n",
      " [1.000e+00 5.220e+02]\n",
      " [2.000e+00 2.460e+02]\n",
      " [3.000e+00 1.020e+02]\n",
      " [4.000e+00 6.320e+02]\n",
      " [5.000e+00 5.470e+02]\n",
      " [6.000e+00 5.870e+02]\n",
      " [7.000e+00 1.580e+02]\n",
      " [8.000e+00 5.370e+02]\n",
      " [9.000e+00 4.100e+02]\n",
      " [1.000e+01 3.270e+02]\n",
      " [1.100e+01 1.630e+02]\n",
      " [1.200e+01 2.750e+02]\n",
      " [1.300e+01 1.240e+02]\n",
      " [1.400e+01 4.120e+02]\n",
      " [1.500e+01 2.020e+02]\n",
      " [1.600e+01 1.510e+02]\n",
      " [1.700e+01 1.610e+02]\n",
      " [1.800e+01 9.300e+01]\n",
      " [1.900e+01 1.340e+02]\n",
      " [2.000e+01 1.110e+02]\n",
      " [2.100e+01 2.980e+02]\n",
      " [2.200e+01 1.100e+02]\n",
      " [2.300e+01 1.640e+02]\n",
      " [2.400e+01 2.490e+02]\n",
      " [2.500e+01 1.800e+02]\n",
      " [2.600e+01 3.090e+02]\n",
      " [2.700e+01 1.840e+02]\n",
      " [2.800e+01 4.250e+02]\n",
      " [2.900e+01 5.160e+02]\n",
      " [3.000e+01 2.320e+02]\n",
      " [3.100e+01 5.850e+02]\n",
      " [3.200e+01 1.130e+02]\n",
      " [3.300e+01 1.710e+02]\n",
      " [3.400e+01 6.700e+02]\n",
      " [3.500e+01 4.725e+03]\n",
      " [3.600e+01 1.410e+02]\n",
      " [3.700e+01 9.600e+01]\n",
      " [3.800e+01 8.400e+01]\n",
      " [3.900e+01 3.250e+02]\n",
      " [4.000e+01 3.740e+02]\n",
      " [4.100e+01 1.090e+02]\n",
      " [4.200e+01 2.480e+02]\n",
      " [4.300e+01 2.140e+02]\n",
      " [4.400e+01 2.900e+02]\n",
      " [4.500e+01 1.250e+02]\n",
      " [4.600e+01 4.410e+02]\n",
      " [4.700e+01 1.740e+02]\n",
      " [4.800e+01 5.650e+02]\n",
      " [4.900e+01 1.181e+03]\n",
      " [5.000e+01 2.550e+02]\n",
      " [5.100e+01 4.310e+02]\n",
      " [5.200e+01 1.282e+03]\n",
      " [5.300e+01 7.230e+03]\n",
      " [5.400e+01 2.721e+03]\n",
      " [5.500e+01 1.730e+02]\n",
      " [5.600e+01 7.630e+02]\n",
      " [5.700e+01 3.200e+01]\n",
      " [5.800e+01 6.170e+02]\n",
      " [5.900e+01 4.140e+02]\n",
      " [6.000e+01 7.800e+01]\n",
      " [6.100e+01 2.990e+02]\n",
      " [6.200e+01 1.380e+02]\n",
      " [6.300e+01 3.813e+03]]\n"
     ]
    }
   ],
   "source": [
    "unique_test, count_test = np.unique(array_dict['TestingPredictedLayer'], return_counts = True)\n",
    "print(np.array(list(zip(unique_test, count_test))))"
   ]
  },
  {
   "cell_type": "code",
   "execution_count": 28,
   "metadata": {},
   "outputs": [],
   "source": [
    "wrong_train = array_dict['TrainingPredictedLayer'][array_dict['TrainingPredictedLayer'] != array_dict['TrainingRealLayer']]\n",
    "wrong_test = array_dict['TestingPredictedLayer'][array_dict['TestingPredictedLayer'] != array_dict['TestingRealLayer']]"
   ]
  },
  {
   "cell_type": "code",
   "execution_count": 29,
   "metadata": {},
   "outputs": [
    {
     "data": {
      "image/png": "[encoded data removed]",
      "text/plain": [
       "<matplotlib.figure.Figure at 0x7f8e6fdfd390>"
      ]
     },
     "metadata": {},
     "output_type": "display_data"
    }
   ],
   "source": [
    "plt.hist(wrong_train)\n",
    "plt.title('Distribution of Wrong Training Layers');"
   ]
  },
  {
   "cell_type": "code",
   "execution_count": 30,
   "metadata": {},
   "outputs": [
    {
     "data": {
      "image/png": "[encoded data removed]",
      "text/plain": [
       "<matplotlib.figure.Figure at 0x7f8e6feef4a8>"
      ]
     },
     "metadata": {},
     "output_type": "display_data"
    }
   ],
   "source": [
    "plt.hist(wrong_test)\n",
    "plt.title('Distribution of Wrong Testing Layers');"
   ]
  },
  {
   "cell_type": "code",
   "execution_count": null,
   "metadata": {},
   "outputs": [],
   "source": []
  }
 ],
 "metadata": {
  "kernelspec": {
   "display_name": "Python 3",
   "language": "python",
   "name": "python3"
  },
  "language_info": {
   "codemirror_mode": {
    "name": "ipython",
    "version": 3
   },
   "file_extension": ".py",
   "mimetype": "text/x-python",
   "name": "python",
   "nbconvert_exporter": "python",
   "pygments_lexer": "ipython3",
   "version": "3.6.8"
  }
 },
 "nbformat": 4,
 "nbformat_minor": 2
}
